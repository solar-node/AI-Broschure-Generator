{
 "cells": [
  {
   "cell_type": "markdown",
   "id": "fc89ce7d-9db4-4b28-8749-08742308fc09",
   "metadata": {},
   "source": [
    "# AI Broschure Generator\n",
    "### Buiseness Challenge:\n",
    "Create a product that builds a Broschure for a company to be used for prospective clients, investors and potential recruiters.\n",
    "\n",
    "We will be provided the company name and their primary website."
   ]
  },
  {
   "cell_type": "code",
   "execution_count": 4,
   "id": "2a359924-64dd-4c10-b9c4-1512b26c74b5",
   "metadata": {},
   "outputs": [],
   "source": [
    "import os \n",
    "import requests \n",
    "import json\n",
    "from typing import List\n",
    "from dotenv import load_dotenv\n",
    "from bs4 import BeautifulSoup\n",
    "from IPython.display import Markdown, display, update_display\n",
    "from langchain_google_genai import ChatGoogleGenerativeAI"
   ]
  },
  {
   "cell_type": "code",
   "execution_count": 7,
   "id": "42351848-6a65-43e9-83cd-d83a5e13e809",
   "metadata": {},
   "outputs": [],
   "source": [
    "load_dotenv()\n",
    "google_api_key = os.getenv('GEMINI_API_KEY')\n",
    "\n",
    "model = \"gemini-1.5-flash\"\n",
    "gemini = ChatGoogleGenerativeAI(\n",
    "    model = model,\n",
    "    temperature=0.4,\n",
    "    google_api_key=google_api_key\n",
    ")\n"
   ]
  },
  {
   "cell_type": "code",
   "execution_count": null,
   "id": "5f0e7969-e321-4deb-9581-43825d266be2",
   "metadata": {},
   "outputs": [],
   "source": [
    "# A class to represent a webpa"
   ]
  }
 ],
 "metadata": {
  "kernelspec": {
   "display_name": "Python 3 (ipykernel)",
   "language": "python",
   "name": "python3"
  },
  "language_info": {
   "codemirror_mode": {
    "name": "ipython",
    "version": 3
   },
   "file_extension": ".py",
   "mimetype": "text/x-python",
   "name": "python",
   "nbconvert_exporter": "python",
   "pygments_lexer": "ipython3",
   "version": "3.13.5"
  }
 },
 "nbformat": 4,
 "nbformat_minor": 5
}
