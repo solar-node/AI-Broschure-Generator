{
 "cells": [
  {
   "cell_type": "markdown",
   "id": "fc89ce7d-9db4-4b28-8749-08742308fc09",
   "metadata": {},
   "source": [
    "# AI Broschure Generator\n",
    "### Buiseness Challenge:\n",
    "Create a product that builds a Broschure for a company to be used for prospective clients, investors and potential recruiters.\n",
    "\n",
    "We will be provided the company name and their primary website."
   ]
  },
  {
   "cell_type": "code",
   "execution_count": 2,
   "id": "2a359924-64dd-4c10-b9c4-1512b26c74b5",
   "metadata": {},
   "outputs": [],
   "source": [
    "import os \n",
    "import requests \n",
    "import json\n",
    "from typing import List\n",
    "from dotenv import load_dotenv\n",
    "from bs4 import BeautifulSoup\n",
    "from IPython.display import Markdown, display, update_display\n",
    "from langchain_google_genai import ChatGoogleGenerativeAI"
   ]
  },
  {
   "cell_type": "code",
   "execution_count": null,
   "id": "42351848-6a65-43e9-83cd-d83a5e13e809",
   "metadata": {},
   "outputs": [],
   "source": []
  }
 ],
 "metadata": {
  "kernelspec": {
   "display_name": "Python 3 (ipykernel)",
   "language": "python",
   "name": "python3"
  },
  "language_info": {
   "codemirror_mode": {
    "name": "ipython",
    "version": 3
   },
   "file_extension": ".py",
   "mimetype": "text/x-python",
   "name": "python",
   "nbconvert_exporter": "python",
   "pygments_lexer": "ipython3",
   "version": "3.13.5"
  }
 },
 "nbformat": 4,
 "nbformat_minor": 5
}
